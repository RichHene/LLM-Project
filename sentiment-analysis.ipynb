{
 "cells": [
  {
   "cell_type": "code",
   "id": "initial_id",
   "metadata": {
    "collapsed": true,
    "ExecuteTime": {
     "end_time": "2025-09-03T03:05:56.744153Z",
     "start_time": "2025-09-03T03:05:55.168164Z"
    }
   },
   "source": [
    "import pandas as pd\n",
    "\n",
    "books = pd.read_csv('books_with_categories.csv')\n",
    "print(books.head())"
   ],
   "outputs": [
    {
     "name": "stdout",
     "output_type": "stream",
     "text": [
      "          isbn13      isbn10                title  \\\n",
      "0  9780002005883  0002005883               Gilead   \n",
      "1  9780002261982  0002261987         Spider's Web   \n",
      "2  9780006178736  0006178731       Rage of angels   \n",
      "3  9780006280897  0006280897       The Four Loves   \n",
      "4  9780006280934  0006280935  The Problem of Pain   \n",
      "\n",
      "                           authors                     categories  \\\n",
      "0               Marilynne Robinson                        Fiction   \n",
      "1  Charles Osborne;Agatha Christie  Detective and mystery stories   \n",
      "2                   Sidney Sheldon                        Fiction   \n",
      "3              Clive Staples Lewis                 Christian life   \n",
      "4              Clive Staples Lewis                 Christian life   \n",
      "\n",
      "                                           thumbnail  \\\n",
      "0  http://books.google.com/books/content?id=KQZCP...   \n",
      "1  http://books.google.com/books/content?id=gA5GP...   \n",
      "2  http://books.google.com/books/content?id=FKo2T...   \n",
      "3  http://books.google.com/books/content?id=XhQ5X...   \n",
      "4  http://books.google.com/books/content?id=Kk-uV...   \n",
      "\n",
      "                                         description  published_year  \\\n",
      "0  A NOVEL THAT READERS and critics have been eag...          2004.0   \n",
      "1  A new 'Christie for Christmas' -- a full-lengt...          2000.0   \n",
      "2  A memorable, mesmerizing heroine Jennifer -- b...          1993.0   \n",
      "3  Lewis' work on the nature of love divides love...          2002.0   \n",
      "4  \"In The Problem of Pain, C.S. Lewis, one of th...          2002.0   \n",
      "\n",
      "   average_rating  num_pages  ratings_count     title_and_subtitle  \\\n",
      "0            3.85      247.0          361.0                 Gilead   \n",
      "1            3.83      241.0         5164.0  Spider's Web: A Novel   \n",
      "2            3.93      512.0        29532.0         Rage of angels   \n",
      "3            4.15      170.0        33684.0         The Four Loves   \n",
      "4            4.09      176.0        37569.0    The Problem of Pain   \n",
      "\n",
      "                                  tagged_description simple_categories  \n",
      "0  9780002005883 A NOVEL THAT READERS and critics...           Fiction  \n",
      "1  9780002261982 A new 'Christie for Christmas' -...           Fiction  \n",
      "2  9780006178736 A memorable, mesmerizing heroine...           Fiction  \n",
      "3  9780006280897 Lewis' work on the nature of lov...        Nonfiction  \n",
      "4  9780006280934 \"In The Problem of Pain, C.S. Le...        Nonfiction  \n"
     ]
    }
   ],
   "execution_count": 16
  },
  {
   "metadata": {
    "ExecuteTime": {
     "end_time": "2025-09-03T03:06:03.152903Z",
     "start_time": "2025-09-03T03:05:59.641353Z"
    }
   },
   "cell_type": "code",
   "source": [
    "#using an emotion based model\n",
    "from transformers import pipeline\n",
    "classifier = pipeline(\"text-classification\",\n",
    "                      model=\"j-hartmann/emotion-english-distilroberta-base\",\n",
    "                      return_all_scores=True,\n",
    "                      top_k = None,\n",
    "                        device = 0)\n",
    "classifier(\"I love this!\")"
   ],
   "id": "4f1238d7751be5b4",
   "outputs": [
    {
     "name": "stderr",
     "output_type": "stream",
     "text": [
      "Device set to use cpu\n"
     ]
    },
    {
     "data": {
      "text/plain": [
       "[[{'label': 'joy', 'score': 0.9771687984466553},\n",
       "  {'label': 'surprise', 'score': 0.008528684265911579},\n",
       "  {'label': 'neutral', 'score': 0.005764586851000786},\n",
       "  {'label': 'anger', 'score': 0.004419783595949411},\n",
       "  {'label': 'sadness', 'score': 0.002092392183840275},\n",
       "  {'label': 'disgust', 'score': 0.0016119900392368436},\n",
       "  {'label': 'fear', 'score': 0.0004138521908316761}]]"
      ]
     },
     "execution_count": 17,
     "metadata": {},
     "output_type": "execute_result"
    }
   ],
   "execution_count": 17
  },
  {
   "metadata": {
    "ExecuteTime": {
     "end_time": "2025-09-03T03:06:05.179633Z",
     "start_time": "2025-09-03T03:06:05.141279Z"
    }
   },
   "cell_type": "code",
   "source": "books['description'][0]",
   "id": "1f01419d7a9389cb",
   "outputs": [
    {
     "data": {
      "text/plain": [
       "'A NOVEL THAT READERS and critics have been eagerly anticipating for over a decade, Gilead is an astonishingly imagined story of remarkable lives. John Ames is a preacher, the son of a preacher and the grandson (both maternal and paternal) of preachers. It’s 1956 in Gilead, Iowa, towards the end of the Reverend Ames’s life, and he is absorbed in recording his family’s story, a legacy for the young son he will never see grow up. Haunted by his grandfather’s presence, John tells of the rift between his grandfather and his father: the elder, an angry visionary who fought for the abolitionist cause, and his son, an ardent pacifist. He is troubled, too, by his prodigal namesake, Jack (John Ames) Boughton, his best friend’s lost son who returns to Gilead searching for forgiveness and redemption. Told in John Ames’s joyous, rambling voice that finds beauty, humour and truth in the smallest of life’s details, Gilead is a song of celebration and acceptance of the best and the worst the world has to offer. At its heart is a tale of the sacred bonds between fathers and sons, pitch-perfect in style and story, set to dazzle critics and readers alike.'"
      ]
     },
     "execution_count": 18,
     "metadata": {},
     "output_type": "execute_result"
    }
   ],
   "execution_count": 18
  },
  {
   "metadata": {
    "ExecuteTime": {
     "end_time": "2025-09-03T03:06:07.135178Z",
     "start_time": "2025-09-03T03:06:06.663901Z"
    }
   },
   "cell_type": "code",
   "source": "classifier(books['description'][0])",
   "id": "da46c8d383dc302",
   "outputs": [
    {
     "data": {
      "text/plain": [
       "[[{'label': 'fear', 'score': 0.6548399925231934},\n",
       "  {'label': 'neutral', 'score': 0.1698525995016098},\n",
       "  {'label': 'sadness', 'score': 0.11640939861536026},\n",
       "  {'label': 'surprise', 'score': 0.02070068009197712},\n",
       "  {'label': 'disgust', 'score': 0.019100721925497055},\n",
       "  {'label': 'joy', 'score': 0.015161462128162384},\n",
       "  {'label': 'anger', 'score': 0.003935154061764479}]]"
      ]
     },
     "execution_count": 19,
     "metadata": {},
     "output_type": "execute_result"
    }
   ],
   "execution_count": 19
  },
  {
   "metadata": {
    "ExecuteTime": {
     "end_time": "2025-09-03T03:06:09.870969Z",
     "start_time": "2025-09-03T03:06:09.021341Z"
    }
   },
   "cell_type": "code",
   "source": [
    "#but book has a mix of other emotions\n",
    "#split the book down to individual sentences\n",
    "classifier(books['description'][0].split('.'))"
   ],
   "id": "d417253a57e18e95",
   "outputs": [
    {
     "data": {
      "text/plain": [
       "[[{'label': 'surprise', 'score': 0.729602038860321},\n",
       "  {'label': 'neutral', 'score': 0.14038607478141785},\n",
       "  {'label': 'fear', 'score': 0.06816229224205017},\n",
       "  {'label': 'joy', 'score': 0.04794258251786232},\n",
       "  {'label': 'anger', 'score': 0.009156374260783195},\n",
       "  {'label': 'disgust', 'score': 0.002628477755934},\n",
       "  {'label': 'sadness', 'score': 0.0021221644710749388}],\n",
       " [{'label': 'neutral', 'score': 0.44937077164649963},\n",
       "  {'label': 'disgust', 'score': 0.27359139919281006},\n",
       "  {'label': 'joy', 'score': 0.10908306390047073},\n",
       "  {'label': 'sadness', 'score': 0.09362738579511642},\n",
       "  {'label': 'anger', 'score': 0.040478240698575974},\n",
       "  {'label': 'surprise', 'score': 0.02697017788887024},\n",
       "  {'label': 'fear', 'score': 0.0068790484219789505}],\n",
       " [{'label': 'neutral', 'score': 0.6462157964706421},\n",
       "  {'label': 'sadness', 'score': 0.24273352324962616},\n",
       "  {'label': 'disgust', 'score': 0.04342266544699669},\n",
       "  {'label': 'surprise', 'score': 0.028300534933805466},\n",
       "  {'label': 'joy', 'score': 0.014211485162377357},\n",
       "  {'label': 'fear', 'score': 0.014084087684750557},\n",
       "  {'label': 'anger', 'score': 0.011031894013285637}],\n",
       " [{'label': 'fear', 'score': 0.9281681180000305},\n",
       "  {'label': 'anger', 'score': 0.03219093754887581},\n",
       "  {'label': 'neutral', 'score': 0.01280868798494339},\n",
       "  {'label': 'sadness', 'score': 0.008756876923143864},\n",
       "  {'label': 'surprise', 'score': 0.008597906678915024},\n",
       "  {'label': 'disgust', 'score': 0.008431830443441868},\n",
       "  {'label': 'joy', 'score': 0.0010455821175128222}],\n",
       " [{'label': 'sadness', 'score': 0.9671575427055359},\n",
       "  {'label': 'neutral', 'score': 0.015104157850146294},\n",
       "  {'label': 'disgust', 'score': 0.006480599287897348},\n",
       "  {'label': 'fear', 'score': 0.005393992643803358},\n",
       "  {'label': 'surprise', 'score': 0.0022869419772177935},\n",
       "  {'label': 'anger', 'score': 0.0018428912153467536},\n",
       "  {'label': 'joy', 'score': 0.0017338789766654372}],\n",
       " [{'label': 'joy', 'score': 0.9327982664108276},\n",
       "  {'label': 'disgust', 'score': 0.03771700710058212},\n",
       "  {'label': 'neutral', 'score': 0.015891820192337036},\n",
       "  {'label': 'sadness', 'score': 0.006444503553211689},\n",
       "  {'label': 'anger', 'score': 0.005024963989853859},\n",
       "  {'label': 'surprise', 'score': 0.0015812061028555036},\n",
       "  {'label': 'fear', 'score': 0.0005423057591542602}],\n",
       " [{'label': 'joy', 'score': 0.6528709530830383},\n",
       "  {'label': 'neutral', 'score': 0.25427451729774475},\n",
       "  {'label': 'surprise', 'score': 0.06808296591043472},\n",
       "  {'label': 'sadness', 'score': 0.009908993728458881},\n",
       "  {'label': 'disgust', 'score': 0.006512218154966831},\n",
       "  {'label': 'anger', 'score': 0.004821305628865957},\n",
       "  {'label': 'fear', 'score': 0.0035290149971842766}],\n",
       " [{'label': 'neutral', 'score': 0.5494772791862488},\n",
       "  {'label': 'sadness', 'score': 0.11169009655714035},\n",
       "  {'label': 'disgust', 'score': 0.10400658845901489},\n",
       "  {'label': 'surprise', 'score': 0.07876544445753098},\n",
       "  {'label': 'anger', 'score': 0.06413355469703674},\n",
       "  {'label': 'fear', 'score': 0.05136274918913841},\n",
       "  {'label': 'joy', 'score': 0.040564365684986115}]]"
      ]
     },
     "execution_count": 20,
     "metadata": {},
     "output_type": "execute_result"
    }
   ],
   "execution_count": 20
  },
  {
   "metadata": {
    "ExecuteTime": {
     "end_time": "2025-09-03T03:06:11.030716Z",
     "start_time": "2025-09-03T03:06:10.448107Z"
    }
   },
   "cell_type": "code",
   "source": [
    "sentences = books['description'][0].split('.')\n",
    "predictions = classifier(sentences)"
   ],
   "id": "3b558c664c674b7b",
   "outputs": [],
   "execution_count": 21
  },
  {
   "metadata": {
    "ExecuteTime": {
     "end_time": "2025-09-03T03:06:17.500037Z",
     "start_time": "2025-09-03T03:06:17.491138Z"
    }
   },
   "cell_type": "code",
   "source": "predictions[0]",
   "id": "cb7e4959526c2904",
   "outputs": [
    {
     "data": {
      "text/plain": [
       "[{'label': 'surprise', 'score': 0.729602038860321},\n",
       " {'label': 'neutral', 'score': 0.14038607478141785},\n",
       " {'label': 'fear', 'score': 0.06816229224205017},\n",
       " {'label': 'joy', 'score': 0.04794258251786232},\n",
       " {'label': 'anger', 'score': 0.009156374260783195},\n",
       " {'label': 'disgust', 'score': 0.002628477755934},\n",
       " {'label': 'sadness', 'score': 0.0021221644710749388}]"
      ]
     },
     "execution_count": 22,
     "metadata": {},
     "output_type": "execute_result"
    }
   ],
   "execution_count": 22
  },
  {
   "metadata": {
    "ExecuteTime": {
     "end_time": "2025-09-03T03:06:21.683261Z",
     "start_time": "2025-09-03T03:06:21.671971Z"
    }
   },
   "cell_type": "code",
   "source": "predictions[3]",
   "id": "65371dd65a04299f",
   "outputs": [
    {
     "data": {
      "text/plain": [
       "[{'label': 'fear', 'score': 0.9281681180000305},\n",
       " {'label': 'anger', 'score': 0.03219093754887581},\n",
       " {'label': 'neutral', 'score': 0.01280868798494339},\n",
       " {'label': 'sadness', 'score': 0.008756876923143864},\n",
       " {'label': 'surprise', 'score': 0.008597906678915024},\n",
       " {'label': 'disgust', 'score': 0.008431830443441868},\n",
       " {'label': 'joy', 'score': 0.0010455821175128222}]"
      ]
     },
     "execution_count": 23,
     "metadata": {},
     "output_type": "execute_result"
    }
   ],
   "execution_count": 23
  },
  {
   "metadata": {
    "ExecuteTime": {
     "end_time": "2025-09-03T03:08:45.730287Z",
     "start_time": "2025-09-03T03:08:45.695092Z"
    }
   },
   "cell_type": "code",
   "source": [
    "#sort by score\n",
    "#for each of the emotions we want the same exact order\n",
    "sorted(predictions[0], key = lambda x:x['label'])"
   ],
   "id": "8bcc719eeac05f56",
   "outputs": [
    {
     "data": {
      "text/plain": [
       "[{'label': 'anger', 'score': 0.009156374260783195},\n",
       " {'label': 'disgust', 'score': 0.002628477755934},\n",
       " {'label': 'fear', 'score': 0.06816229224205017},\n",
       " {'label': 'joy', 'score': 0.04794258251786232},\n",
       " {'label': 'neutral', 'score': 0.14038607478141785},\n",
       " {'label': 'sadness', 'score': 0.0021221644710749388},\n",
       " {'label': 'surprise', 'score': 0.729602038860321}]"
      ]
     },
     "execution_count": 24,
     "metadata": {},
     "output_type": "execute_result"
    }
   ],
   "execution_count": 24
  },
  {
   "metadata": {
    "ExecuteTime": {
     "end_time": "2025-09-03T03:33:17.494284Z",
     "start_time": "2025-09-03T03:33:17.473416Z"
    }
   },
   "cell_type": "code",
   "source": "import numpy as np",
   "id": "b2c48531dc9cd891",
   "outputs": [],
   "execution_count": 28
  },
  {
   "metadata": {
    "ExecuteTime": {
     "end_time": "2025-09-03T03:25:52.280913Z",
     "start_time": "2025-09-03T03:25:52.113367Z"
    }
   },
   "cell_type": "code",
   "source": [
    "#extract the maximum probability for each emotion for each description\n",
    "emotion_labels = ['anger', 'disgust', 'fear', 'joy', 'sadness', 'surprise', 'neutral']\n",
    "isbn = [] #created to merge with the dataset\n",
    "emotion_scores = {label : [] for label in emotion_labels} #contains all of the scores for every single description\n",
    "\n",
    "def calculate_max_emotion_scores(predictions):\n",
    "    per_emotion_scores = {label: [] for label in emotion_labels} #hold all the descriptions for a particular descriptions\n",
    "    for prediction in predictions:#loop over the predictions\n",
    "        sorted_predictions = sorted(prediction, key = lambda x:x['label'])\n",
    "        for index, label in enumerate(emotion_labels): #for per each of the emotions\n",
    "            per_emotion_scores[label].append(sorted_predictions[index]['score']) #extract the score and append it using the correct label\n",
    "    return {label: np.max(scores) for label, scores in per_emotion_scores.items()}\n"
   ],
   "id": "7e95cbff5777fe79",
   "outputs": [],
   "execution_count": 25
  },
  {
   "metadata": {
    "ExecuteTime": {
     "end_time": "2025-09-03T03:33:38.471573Z",
     "start_time": "2025-09-03T03:33:33.396191Z"
    }
   },
   "cell_type": "code",
   "source": [
    "for i in range(10): #testing for the first 10 books\n",
    "    isbn.append(books['isbn13'][i]) #take the isbn13 for the book and append to the isbn list\n",
    "    sentences = books['description'][i].split('.')\n",
    "    predictions = classifier(sentences)\n",
    "    #then pass to the emotion classifier\n",
    "    max_scores = calculate_max_emotion_scores(predictions)\n",
    "    for label in emotion_labels:\n",
    "        emotion_scores[label].append(max_scores[label])"
   ],
   "id": "b431d50229e05a65",
   "outputs": [],
   "execution_count": 30
  },
  {
   "metadata": {
    "ExecuteTime": {
     "end_time": "2025-09-03T03:33:48.792299Z",
     "start_time": "2025-09-03T03:33:48.774932Z"
    }
   },
   "cell_type": "code",
   "source": "emotion_scores",
   "id": "b77dd9ea62de6d6b",
   "outputs": [
    {
     "data": {
      "text/plain": [
       "{'anger': [np.float64(0.06413355469703674),\n",
       "  np.float64(0.6126194000244141),\n",
       "  np.float64(0.06413355469703674),\n",
       "  np.float64(0.35148441791534424),\n",
       "  np.float64(0.08141238987445831),\n",
       "  np.float64(0.23222465813159943),\n",
       "  np.float64(0.5381842255592346),\n",
       "  np.float64(0.06413355469703674),\n",
       "  np.float64(0.3006700873374939),\n",
       "  np.float64(0.06413355469703674)],\n",
       " 'disgust': [np.float64(0.27359139919281006),\n",
       "  np.float64(0.3482847809791565),\n",
       "  np.float64(0.10400658845901489),\n",
       "  np.float64(0.1507224589586258),\n",
       "  np.float64(0.18449527025222778),\n",
       "  np.float64(0.7271749377250671),\n",
       "  np.float64(0.155854731798172),\n",
       "  np.float64(0.10400658845901489),\n",
       "  np.float64(0.279481440782547),\n",
       "  np.float64(0.17792704701423645)],\n",
       " 'fear': [np.float64(0.9281681180000305),\n",
       "  np.float64(0.9425276517868042),\n",
       "  np.float64(0.9723208546638489),\n",
       "  np.float64(0.36070606112480164),\n",
       "  np.float64(0.09504339843988419),\n",
       "  np.float64(0.05136274918913841),\n",
       "  np.float64(0.7474274635314941),\n",
       "  np.float64(0.40449756383895874),\n",
       "  np.float64(0.9155240654945374),\n",
       "  np.float64(0.05136274918913841)],\n",
       " 'joy': [np.float64(0.9327982664108276),\n",
       "  np.float64(0.7044221758842468),\n",
       "  np.float64(0.7672382593154907),\n",
       "  np.float64(0.2518813908100128),\n",
       "  np.float64(0.040564365684986115),\n",
       "  np.float64(0.043375786393880844),\n",
       "  np.float64(0.8725655674934387),\n",
       "  np.float64(0.040564365684986115),\n",
       "  np.float64(0.040564365684986115),\n",
       "  np.float64(0.040564365684986115)],\n",
       " 'sadness': [np.float64(0.6462157964706421),\n",
       "  np.float64(0.8879395127296448),\n",
       "  np.float64(0.5494772791862488),\n",
       "  np.float64(0.7326847910881042),\n",
       "  np.float64(0.8843898177146912),\n",
       "  np.float64(0.621392011642456),\n",
       "  np.float64(0.71219402551651),\n",
       "  np.float64(0.5494772791862488),\n",
       "  np.float64(0.840289294719696),\n",
       "  np.float64(0.8603721857070923)],\n",
       " 'surprise': [np.float64(0.9671575427055359),\n",
       "  np.float64(0.11169009655714035),\n",
       "  np.float64(0.11169009655714035),\n",
       "  np.float64(0.11169009655714035),\n",
       "  np.float64(0.47588005661964417),\n",
       "  np.float64(0.11169009655714035),\n",
       "  np.float64(0.40800145268440247),\n",
       "  np.float64(0.8202825784683228),\n",
       "  np.float64(0.35446134209632874),\n",
       "  np.float64(0.11169009655714035)],\n",
       " 'neutral': [np.float64(0.729602038860321),\n",
       "  np.float64(0.2525460422039032),\n",
       "  np.float64(0.07876544445753098),\n",
       "  np.float64(0.07876544445753098),\n",
       "  np.float64(0.07876544445753098),\n",
       "  np.float64(0.2719033658504486),\n",
       "  np.float64(0.07876544445753098),\n",
       "  np.float64(0.23448672890663147),\n",
       "  np.float64(0.13561387360095978),\n",
       "  np.float64(0.07876544445753098)]}"
      ]
     },
     "execution_count": 31,
     "metadata": {},
     "output_type": "execute_result"
    }
   ],
   "execution_count": 31
  },
  {
   "metadata": {
    "ExecuteTime": {
     "end_time": "2025-09-03T04:12:05.600368Z",
     "start_time": "2025-09-03T03:37:35.248892Z"
    }
   },
   "cell_type": "code",
   "source": [
    "from tqdm import tqdm\n",
    "emotion_labels = ['anger', 'disgust', 'fear', 'joy', 'sadness', 'surprise', 'neutral']\n",
    "isbn = [] #created to merge with the dataset\n",
    "emotion_scores = {label : [] for label in emotion_labels} #contains all of the scores for every single description\n",
    "\n",
    "for i in tqdm(range(len(books))): #testing for the first 10 books\n",
    "    isbn.append(books['isbn13'][i]) #take the isbn13 for the book and append to the isbn list\n",
    "    sentences = books['description'][i].split('.')\n",
    "    predictions = classifier(sentences)\n",
    "    #then pass to the emotion classifier\n",
    "    max_scores = calculate_max_emotion_scores(predictions)\n",
    "    for label in emotion_labels:\n",
    "        emotion_scores[label].append(max_scores[label])"
   ],
   "id": "64c3cd304f76fdc9",
   "outputs": [
    {
     "name": "stderr",
     "output_type": "stream",
     "text": [
      "100%|██████████| 5197/5197 [34:30<00:00,  2.51it/s]  \n"
     ]
    }
   ],
   "execution_count": 32
  },
  {
   "metadata": {
    "ExecuteTime": {
     "end_time": "2025-09-03T04:14:49.140886Z",
     "start_time": "2025-09-03T04:14:49.104415Z"
    }
   },
   "cell_type": "code",
   "source": [
    "#pass the results of the dictionary to a pandas dataframe\n",
    "emotions_df = pd.DataFrame(emotion_scores)\n",
    "emotions_df['isbn13'] = isbn"
   ],
   "id": "6acd9aca9c1b609",
   "outputs": [],
   "execution_count": 37
  },
  {
   "metadata": {
    "ExecuteTime": {
     "end_time": "2025-09-03T04:14:50.391932Z",
     "start_time": "2025-09-03T04:14:50.366738Z"
    }
   },
   "cell_type": "code",
   "source": "emotions_df #creates a separate column for each of the emotions",
   "id": "8705190beb60c167",
   "outputs": [
    {
     "data": {
      "text/plain": [
       "         anger   disgust      fear       joy   sadness  surprise   neutral  \\\n",
       "0     0.064134  0.273591  0.928168  0.932798  0.646216  0.967158  0.729602   \n",
       "1     0.612619  0.348285  0.942528  0.704422  0.887940  0.111690  0.252546   \n",
       "2     0.064134  0.104007  0.972321  0.767238  0.549477  0.111690  0.078765   \n",
       "3     0.351484  0.150722  0.360706  0.251881  0.732685  0.111690  0.078765   \n",
       "4     0.081412  0.184495  0.095043  0.040564  0.884390  0.475880  0.078765   \n",
       "...        ...       ...       ...       ...       ...       ...       ...   \n",
       "5192  0.148208  0.030643  0.919165  0.255172  0.853721  0.980877  0.030656   \n",
       "5193  0.064134  0.114383  0.051363  0.400263  0.883198  0.111690  0.227765   \n",
       "5194  0.009997  0.009929  0.339218  0.947779  0.375754  0.066685  0.057625   \n",
       "5195  0.064134  0.104007  0.459268  0.759456  0.951104  0.368111  0.078765   \n",
       "5196  0.064134  0.104007  0.051363  0.958549  0.915193  0.111690  0.078765   \n",
       "\n",
       "             isbn13  \n",
       "0     9780002005883  \n",
       "1     9780002261982  \n",
       "2     9780006178736  \n",
       "3     9780006280897  \n",
       "4     9780006280934  \n",
       "...             ...  \n",
       "5192  9788172235222  \n",
       "5193  9788173031014  \n",
       "5194  9788179921623  \n",
       "5195  9788185300535  \n",
       "5196  9789027712059  \n",
       "\n",
       "[5197 rows x 8 columns]"
      ],
      "text/html": [
       "<div>\n",
       "<style scoped>\n",
       "    .dataframe tbody tr th:only-of-type {\n",
       "        vertical-align: middle;\n",
       "    }\n",
       "\n",
       "    .dataframe tbody tr th {\n",
       "        vertical-align: top;\n",
       "    }\n",
       "\n",
       "    .dataframe thead th {\n",
       "        text-align: right;\n",
       "    }\n",
       "</style>\n",
       "<table border=\"1\" class=\"dataframe\">\n",
       "  <thead>\n",
       "    <tr style=\"text-align: right;\">\n",
       "      <th></th>\n",
       "      <th>anger</th>\n",
       "      <th>disgust</th>\n",
       "      <th>fear</th>\n",
       "      <th>joy</th>\n",
       "      <th>sadness</th>\n",
       "      <th>surprise</th>\n",
       "      <th>neutral</th>\n",
       "      <th>isbn13</th>\n",
       "    </tr>\n",
       "  </thead>\n",
       "  <tbody>\n",
       "    <tr>\n",
       "      <th>0</th>\n",
       "      <td>0.064134</td>\n",
       "      <td>0.273591</td>\n",
       "      <td>0.928168</td>\n",
       "      <td>0.932798</td>\n",
       "      <td>0.646216</td>\n",
       "      <td>0.967158</td>\n",
       "      <td>0.729602</td>\n",
       "      <td>9780002005883</td>\n",
       "    </tr>\n",
       "    <tr>\n",
       "      <th>1</th>\n",
       "      <td>0.612619</td>\n",
       "      <td>0.348285</td>\n",
       "      <td>0.942528</td>\n",
       "      <td>0.704422</td>\n",
       "      <td>0.887940</td>\n",
       "      <td>0.111690</td>\n",
       "      <td>0.252546</td>\n",
       "      <td>9780002261982</td>\n",
       "    </tr>\n",
       "    <tr>\n",
       "      <th>2</th>\n",
       "      <td>0.064134</td>\n",
       "      <td>0.104007</td>\n",
       "      <td>0.972321</td>\n",
       "      <td>0.767238</td>\n",
       "      <td>0.549477</td>\n",
       "      <td>0.111690</td>\n",
       "      <td>0.078765</td>\n",
       "      <td>9780006178736</td>\n",
       "    </tr>\n",
       "    <tr>\n",
       "      <th>3</th>\n",
       "      <td>0.351484</td>\n",
       "      <td>0.150722</td>\n",
       "      <td>0.360706</td>\n",
       "      <td>0.251881</td>\n",
       "      <td>0.732685</td>\n",
       "      <td>0.111690</td>\n",
       "      <td>0.078765</td>\n",
       "      <td>9780006280897</td>\n",
       "    </tr>\n",
       "    <tr>\n",
       "      <th>4</th>\n",
       "      <td>0.081412</td>\n",
       "      <td>0.184495</td>\n",
       "      <td>0.095043</td>\n",
       "      <td>0.040564</td>\n",
       "      <td>0.884390</td>\n",
       "      <td>0.475880</td>\n",
       "      <td>0.078765</td>\n",
       "      <td>9780006280934</td>\n",
       "    </tr>\n",
       "    <tr>\n",
       "      <th>...</th>\n",
       "      <td>...</td>\n",
       "      <td>...</td>\n",
       "      <td>...</td>\n",
       "      <td>...</td>\n",
       "      <td>...</td>\n",
       "      <td>...</td>\n",
       "      <td>...</td>\n",
       "      <td>...</td>\n",
       "    </tr>\n",
       "    <tr>\n",
       "      <th>5192</th>\n",
       "      <td>0.148208</td>\n",
       "      <td>0.030643</td>\n",
       "      <td>0.919165</td>\n",
       "      <td>0.255172</td>\n",
       "      <td>0.853721</td>\n",
       "      <td>0.980877</td>\n",
       "      <td>0.030656</td>\n",
       "      <td>9788172235222</td>\n",
       "    </tr>\n",
       "    <tr>\n",
       "      <th>5193</th>\n",
       "      <td>0.064134</td>\n",
       "      <td>0.114383</td>\n",
       "      <td>0.051363</td>\n",
       "      <td>0.400263</td>\n",
       "      <td>0.883198</td>\n",
       "      <td>0.111690</td>\n",
       "      <td>0.227765</td>\n",
       "      <td>9788173031014</td>\n",
       "    </tr>\n",
       "    <tr>\n",
       "      <th>5194</th>\n",
       "      <td>0.009997</td>\n",
       "      <td>0.009929</td>\n",
       "      <td>0.339218</td>\n",
       "      <td>0.947779</td>\n",
       "      <td>0.375754</td>\n",
       "      <td>0.066685</td>\n",
       "      <td>0.057625</td>\n",
       "      <td>9788179921623</td>\n",
       "    </tr>\n",
       "    <tr>\n",
       "      <th>5195</th>\n",
       "      <td>0.064134</td>\n",
       "      <td>0.104007</td>\n",
       "      <td>0.459268</td>\n",
       "      <td>0.759456</td>\n",
       "      <td>0.951104</td>\n",
       "      <td>0.368111</td>\n",
       "      <td>0.078765</td>\n",
       "      <td>9788185300535</td>\n",
       "    </tr>\n",
       "    <tr>\n",
       "      <th>5196</th>\n",
       "      <td>0.064134</td>\n",
       "      <td>0.104007</td>\n",
       "      <td>0.051363</td>\n",
       "      <td>0.958549</td>\n",
       "      <td>0.915193</td>\n",
       "      <td>0.111690</td>\n",
       "      <td>0.078765</td>\n",
       "      <td>9789027712059</td>\n",
       "    </tr>\n",
       "  </tbody>\n",
       "</table>\n",
       "<p>5197 rows × 8 columns</p>\n",
       "</div>"
      ]
     },
     "execution_count": 38,
     "metadata": {},
     "output_type": "execute_result"
    }
   ],
   "execution_count": 38
  },
  {
   "metadata": {
    "ExecuteTime": {
     "end_time": "2025-09-03T04:14:57.039043Z",
     "start_time": "2025-09-03T04:14:56.805139Z"
    }
   },
   "cell_type": "code",
   "source": [
    "#then merge this into the books dataframe\n",
    "books = pd.merge(books, emotions_df, on='isbn13')"
   ],
   "id": "7ed7fc3724987fbc",
   "outputs": [],
   "execution_count": 39
  },
  {
   "metadata": {
    "ExecuteTime": {
     "end_time": "2025-09-03T04:15:01.128211Z",
     "start_time": "2025-09-03T04:15:01.123033Z"
    }
   },
   "cell_type": "code",
   "source": "#create a histogram of the emotions",
   "id": "c7a5a5ef07975b8a",
   "outputs": [],
   "execution_count": 40
  },
  {
   "metadata": {
    "ExecuteTime": {
     "end_time": "2025-09-03T04:15:02.956391Z",
     "start_time": "2025-09-03T04:15:02.070530Z"
    }
   },
   "cell_type": "code",
   "source": "books.to_csv('books_with_emotions.csv', index=False)",
   "id": "60901e94a9620cab",
   "outputs": [],
   "execution_count": 41
  },
  {
   "metadata": {},
   "cell_type": "code",
   "outputs": [],
   "execution_count": null,
   "source": "",
   "id": "a2ab870979635c2e"
  }
 ],
 "metadata": {
  "kernelspec": {
   "display_name": "Python 3",
   "language": "python",
   "name": "python3"
  },
  "language_info": {
   "codemirror_mode": {
    "name": "ipython",
    "version": 2
   },
   "file_extension": ".py",
   "mimetype": "text/x-python",
   "name": "python",
   "nbconvert_exporter": "python",
   "pygments_lexer": "ipython2",
   "version": "2.7.6"
  }
 },
 "nbformat": 4,
 "nbformat_minor": 5
}
